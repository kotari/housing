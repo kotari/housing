{
 "cells": [
  {
   "cell_type": "code",
   "execution_count": 96,
   "metadata": {},
   "outputs": [],
   "source": [
    "import numpy as np\n",
    "import pandas as pd\n",
    "\n",
    "# Define IAM role\n",
    "import boto3\n",
    "import re\n",
    "import sagemaker\n",
    "from sagemaker import get_execution_role\n",
    "from sagemaker.amazon.amazon_estimator import get_image_uri\n",
    "# SageMaker SDK Documentation: http://sagemaker.readthedocs.io/en/latest/estimators.html"
   ]
  },
  {
   "cell_type": "code",
   "execution_count": 97,
   "metadata": {},
   "outputs": [],
   "source": [
    "bucket_name = 'rajesh-ml-sagemaker'\n",
    "training_file_key = 'housing/train.csv'\n",
    "validation_file_key = 'housing/validation.csv'\n",
    "test_file_key = 'housing/test.csv'\n",
    "\n",
    "s3_model_output_location = r's3://{0}/housing/model'.format(bucket_name)\n",
    "s3_training_file_location = r's3://{0}/{1}'.format(bucket_name,training_file_key)\n",
    "s3_validation_file_location = r's3://{0}/{1}'.format(bucket_name,validation_file_key)\n",
    "s3_test_file_location = r's3://{0}/{1}'.format(bucket_name,test_file_key)"
   ]
  },
  {
   "cell_type": "code",
   "execution_count": 98,
   "metadata": {},
   "outputs": [
    {
     "name": "stdout",
     "output_type": "stream",
     "text": [
      "s3://rajesh-ml-sagemaker/housing/model\n",
      "s3://rajesh-ml-sagemaker/housing/train.csv\n",
      "s3://rajesh-ml-sagemaker/housing/validation.csv\n",
      "s3://rajesh-ml-sagemaker/housing/test.csv\n"
     ]
    }
   ],
   "source": [
    "print(s3_model_output_location)\n",
    "print(s3_training_file_location)\n",
    "print(s3_validation_file_location)\n",
    "print(s3_test_file_location)"
   ]
  },
  {
   "cell_type": "code",
   "execution_count": 99,
   "metadata": {},
   "outputs": [],
   "source": [
    "# Write and Reading from S3 is just as easy\n",
    "# files are referred as objects in S3.  \n",
    "# file name is referred as key name in S3\n",
    "# Files stored in S3 are automatically replicated across 3 different availability zones \n",
    "# in the region where the bucket was created.\n",
    "\n",
    "# http://boto3.readthedocs.io/en/latest/guide/s3.html\n",
    "def write_to_s3(filename, bucket, key):\n",
    "    with open(filename,'rb') as f: # Read in binary mode\n",
    "        return boto3.Session().resource('s3').Bucket(bucket).Object(key).upload_fileobj(f)"
   ]
  },
  {
   "cell_type": "code",
   "execution_count": 100,
   "metadata": {},
   "outputs": [],
   "source": [
    "write_to_s3('train_prep.csv',bucket_name,training_file_key)\n",
    "write_to_s3('validation_prep.csv',bucket_name,validation_file_key)\n",
    "write_to_s3('test_prep.csv',bucket_name,test_file_key)"
   ]
  },
  {
   "cell_type": "code",
   "execution_count": 101,
   "metadata": {},
   "outputs": [],
   "source": [
    "# Registry Path for algorithms provided by SageMaker\n",
    "#  https://docs.aws.amazon.com/sagemaker/latest/dg/sagemaker-algo-docker-registry-paths.html\n",
    "containers = {'us-west-2': '246618743249.dkr.ecr.us-west-2.amazonaws.com/xgboost:latest',\n",
    "              'us-east-1': '811284229777.dkr.ecr.us-east-1.amazonaws.com/xgboost:latest',\n",
    "              'us-east-2': '257758044811.dkr.ecr.us-east-2.amazonaws.com/xgboost:latest',\n",
    "              'eu-west-1': '746614075791.dkr.ecr.us-west-1.amazonaws.com/xgboost:latest'}"
   ]
  },
  {
   "cell_type": "code",
   "execution_count": 102,
   "metadata": {},
   "outputs": [],
   "source": [
    "role = get_execution_role()"
   ]
  },
  {
   "cell_type": "code",
   "execution_count": 103,
   "metadata": {},
   "outputs": [
    {
     "name": "stdout",
     "output_type": "stream",
     "text": [
      "arn:aws:iam::828396155196:role/service-role/AmazonSageMaker-ExecutionRole-20190926T223473\n"
     ]
    }
   ],
   "source": [
    "print(role)"
   ]
  },
  {
   "cell_type": "code",
   "execution_count": 104,
   "metadata": {},
   "outputs": [],
   "source": [
    "sess = sagemaker.Session()"
   ]
  },
  {
   "cell_type": "code",
   "execution_count": 105,
   "metadata": {},
   "outputs": [
    {
     "name": "stdout",
     "output_type": "stream",
     "text": [
      "us-east-1\n"
     ]
    }
   ],
   "source": [
    "print(boto3.Session().region_name)"
   ]
  },
  {
   "cell_type": "code",
   "execution_count": 106,
   "metadata": {},
   "outputs": [],
   "source": [
    "# Access appropriate algorithm container image\n",
    "#  Specify how many instances to use for distributed training and what type of machine to use\n",
    "#  Finally, specify where the trained model artifacts needs to be stored\n",
    "#   Reference: http://sagemaker.readthedocs.io/en/latest/estimators.html\n",
    "#    Optionally, give a name to the training job using base_job_name\n",
    "# get the URI for new container\n",
    "container = get_image_uri(boto3.Session().region_name,\n",
    "                          'xgboost', \n",
    "                          repo_version='0.90-1')\n",
    "estimator = sagemaker.estimator.Estimator(container,\n",
    "                                       role, \n",
    "                                       train_instance_count=1, \n",
    "                                       train_instance_type='ml.m4.xlarge',\n",
    "                                       output_path=s3_model_output_location,\n",
    "                                       sagemaker_session=sess,\n",
    "                                       base_job_name ='xgboost-housing-v1')"
   ]
  },
  {
   "cell_type": "code",
   "execution_count": 107,
   "metadata": {},
   "outputs": [],
   "source": [
    "# Specify hyper parameters that appropriate for the training algorithm\n",
    "# XGBoost Training Parameter Reference: \n",
    "#   https://github.com/dmlc/xgboost/blob/master/doc/parameter.md\n",
    "\n",
    "# max_depth=5,eta=0.1,subsample=0.7,num_round=150\n",
    "estimator.set_hyperparameters(max_depth=5,eta=0.1,subsample=0.7,num_round=150, objective='reg:squarederror', silent=0)"
   ]
  },
  {
   "cell_type": "code",
   "execution_count": 108,
   "metadata": {},
   "outputs": [
    {
     "data": {
      "text/plain": [
       "{'max_depth': 5,\n",
       " 'eta': 0.1,\n",
       " 'subsample': 0.7,\n",
       " 'num_round': 150,\n",
       " 'objective': 'reg:squarederror',\n",
       " 'silent': 0}"
      ]
     },
     "execution_count": 108,
     "metadata": {},
     "output_type": "execute_result"
    }
   ],
   "source": [
    "estimator.hyperparameters()"
   ]
  },
  {
   "cell_type": "code",
   "execution_count": 109,
   "metadata": {},
   "outputs": [],
   "source": [
    "# content type can be libsvm or csv for XGBoost\n",
    "training_input_config = sagemaker.session.s3_input(s3_data=s3_training_file_location,content_type=\"csv\")\n",
    "validation_input_config = sagemaker.session.s3_input(s3_data=s3_validation_file_location,content_type=\"csv\")"
   ]
  },
  {
   "cell_type": "code",
   "execution_count": 110,
   "metadata": {},
   "outputs": [
    {
     "name": "stdout",
     "output_type": "stream",
     "text": [
      "{'DataSource': {'S3DataSource': {'S3DataDistributionType': 'FullyReplicated', 'S3DataType': 'S3Prefix', 'S3Uri': 's3://rajesh-ml-sagemaker/housing/train.csv'}}, 'ContentType': 'csv'}\n",
      "{'DataSource': {'S3DataSource': {'S3DataDistributionType': 'FullyReplicated', 'S3DataType': 'S3Prefix', 'S3Uri': 's3://rajesh-ml-sagemaker/housing/validation.csv'}}, 'ContentType': 'csv'}\n"
     ]
    }
   ],
   "source": [
    "print(training_input_config.config)\n",
    "print(validation_input_config.config)"
   ]
  },
  {
   "cell_type": "code",
   "execution_count": 111,
   "metadata": {},
   "outputs": [
    {
     "name": "stdout",
     "output_type": "stream",
     "text": [
      "2019-10-01 16:32:24 Starting - Starting the training job...\n",
      "2019-10-01 16:32:30 Starting - Launching requested ML instances.........\n",
      "2019-10-01 16:33:58 Starting - Preparing the instances for training......\n",
      "2019-10-01 16:35:19 Downloading - Downloading input data\n",
      "2019-10-01 16:35:19 Training - Downloading the training image...\n",
      "2019-10-01 16:35:49 Uploading - Uploading generated training model\n",
      "2019-10-01 16:35:49 Completed - Training job completed\n",
      "\u001b[31mINFO:sagemaker-containers:Imported framework sagemaker_xgboost_container.training\u001b[0m\n",
      "\u001b[31mINFO:sagemaker-containers:Failed to parse hyperparameter objective value reg:squarederror to Json.\u001b[0m\n",
      "\u001b[31mReturning the value itself\u001b[0m\n",
      "\u001b[31mINFO:sagemaker-containers:No GPUs detected (normal if no gpus installed)\u001b[0m\n",
      "\u001b[31mINFO:sagemaker_xgboost_container.training:Running XGBoost Sagemaker in algorithm mode\u001b[0m\n",
      "\u001b[31mINFO:root:Determined delimiter of CSV input is ','\u001b[0m\n",
      "\u001b[31mINFO:root:Determined delimiter of CSV input is ','\u001b[0m\n",
      "\u001b[31mINFO:root:Determined delimiter of CSV input is ','\u001b[0m\n",
      "\u001b[31m[16:35:41] 1008x79 matrix with 79632 entries loaded from /opt/ml/input/data/train?format=csv&label_column=0&delimiter=,\u001b[0m\n",
      "\u001b[31mINFO:root:Determined delimiter of CSV input is ','\u001b[0m\n",
      "\u001b[31m[16:35:41] 432x79 matrix with 34128 entries loaded from /opt/ml/input/data/validation?format=csv&label_column=0&delimiter=,\u001b[0m\n",
      "\u001b[31mINFO:root:Single node training.\u001b[0m\n",
      "\u001b[31mINFO:root:Train matrix has 1008 rows\u001b[0m\n",
      "\u001b[31mINFO:root:Validation matrix has 432 rows\u001b[0m\n",
      "\u001b[31m[0]#011train-rmse:10.378#011validation-rmse:10.3836\u001b[0m\n",
      "\u001b[31m[1]#011train-rmse:9.34319#011validation-rmse:9.3488\u001b[0m\n",
      "\u001b[31m[2]#011train-rmse:8.4113#011validation-rmse:8.41695\u001b[0m\n",
      "\u001b[31m[3]#011train-rmse:7.57471#011validation-rmse:7.58041\u001b[0m\n",
      "\u001b[31m[4]#011train-rmse:6.8208#011validation-rmse:6.82656\u001b[0m\n",
      "\u001b[31m[5]#011train-rmse:6.14167#011validation-rmse:6.14749\u001b[0m\n",
      "\u001b[31m[6]#011train-rmse:5.53078#011validation-rmse:5.53546\u001b[0m\n",
      "\u001b[31m[7]#011train-rmse:4.98139#011validation-rmse:4.98745\u001b[0m\n",
      "\u001b[31m[8]#011train-rmse:4.48635#011validation-rmse:4.49349\u001b[0m\n",
      "\u001b[31m[9]#011train-rmse:4.0403#011validation-rmse:4.04638\u001b[0m\n",
      "\u001b[31m[10]#011train-rmse:3.63972#011validation-rmse:3.64699\u001b[0m\n",
      "\u001b[31m[11]#011train-rmse:3.27988#011validation-rmse:3.2869\u001b[0m\n",
      "\u001b[31m[12]#011train-rmse:2.95585#011validation-rmse:2.96333\u001b[0m\n",
      "\u001b[31m[13]#011train-rmse:2.66409#011validation-rmse:2.67288\u001b[0m\n",
      "\u001b[31m[14]#011train-rmse:2.40123#011validation-rmse:2.41079\u001b[0m\n",
      "\u001b[31m[15]#011train-rmse:2.16438#011validation-rmse:2.1738\u001b[0m\n",
      "\u001b[31m[16]#011train-rmse:1.95104#011validation-rmse:1.96089\u001b[0m\n",
      "\u001b[31m[17]#011train-rmse:1.75918#011validation-rmse:1.76989\u001b[0m\n",
      "\u001b[31m[18]#011train-rmse:1.586#011validation-rmse:1.59596\u001b[0m\n",
      "\u001b[31m[19]#011train-rmse:1.43075#011validation-rmse:1.44101\u001b[0m\n",
      "\u001b[31m[20]#011train-rmse:1.29104#011validation-rmse:1.30286\u001b[0m\n",
      "\u001b[31m[21]#011train-rmse:1.16488#011validation-rmse:1.17697\u001b[0m\n",
      "\u001b[31m[22]#011train-rmse:1.05169#011validation-rmse:1.06377\u001b[0m\n",
      "\u001b[31m[23]#011train-rmse:0.949912#011validation-rmse:0.961924\u001b[0m\n",
      "\u001b[31m[24]#011train-rmse:0.858797#011validation-rmse:0.870895\u001b[0m\n",
      "\u001b[31m[25]#011train-rmse:0.775905#011validation-rmse:0.788509\u001b[0m\n",
      "\u001b[31m[26]#011train-rmse:0.701872#011validation-rmse:0.714914\u001b[0m\n",
      "\u001b[31m[27]#011train-rmse:0.63468#011validation-rmse:0.648706\u001b[0m\n",
      "\u001b[31m[28]#011train-rmse:0.574198#011validation-rmse:0.589414\u001b[0m\n",
      "\u001b[31m[29]#011train-rmse:0.520936#011validation-rmse:0.535665\u001b[0m\n",
      "\u001b[31m[30]#011train-rmse:0.472237#011validation-rmse:0.48831\u001b[0m\n",
      "\u001b[31m[31]#011train-rmse:0.428973#011validation-rmse:0.446115\u001b[0m\n",
      "\u001b[31m[32]#011train-rmse:0.389595#011validation-rmse:0.407427\u001b[0m\n",
      "\u001b[31m[33]#011train-rmse:0.354588#011validation-rmse:0.373449\u001b[0m\n",
      "\u001b[31m[34]#011train-rmse:0.322958#011validation-rmse:0.343612\u001b[0m\n",
      "\u001b[31m[35]#011train-rmse:0.294983#011validation-rmse:0.316693\u001b[0m\n",
      "\u001b[31m[36]#011train-rmse:0.269806#011validation-rmse:0.293102\u001b[0m\n",
      "\u001b[31m[37]#011train-rmse:0.247468#011validation-rmse:0.271917\u001b[0m\n",
      "\u001b[31m[38]#011train-rmse:0.227362#011validation-rmse:0.25259\u001b[0m\n",
      "\u001b[31m[39]#011train-rmse:0.209457#011validation-rmse:0.235508\u001b[0m\n",
      "\u001b[31m[40]#011train-rmse:0.193421#011validation-rmse:0.220682\u001b[0m\n",
      "\u001b[31m[41]#011train-rmse:0.179032#011validation-rmse:0.208769\u001b[0m\n",
      "\u001b[31m[42]#011train-rmse:0.166786#011validation-rmse:0.198667\u001b[0m\n",
      "\u001b[31m[43]#011train-rmse:0.155803#011validation-rmse:0.188677\u001b[0m\n",
      "\u001b[31m[44]#011train-rmse:0.145853#011validation-rmse:0.180312\u001b[0m\n",
      "\u001b[31m[45]#011train-rmse:0.136897#011validation-rmse:0.173384\u001b[0m\n",
      "\u001b[31m[46]#011train-rmse:0.129533#011validation-rmse:0.167235\u001b[0m\n",
      "\u001b[31m[47]#011train-rmse:0.122726#011validation-rmse:0.161625\u001b[0m\n",
      "\u001b[31m[48]#011train-rmse:0.116106#011validation-rmse:0.15609\u001b[0m\n",
      "\u001b[31m[49]#011train-rmse:0.110928#011validation-rmse:0.151684\u001b[0m\n",
      "\u001b[31m[50]#011train-rmse:0.106123#011validation-rmse:0.148234\u001b[0m\n",
      "\u001b[31m[51]#011train-rmse:0.101974#011validation-rmse:0.14527\u001b[0m\n",
      "\u001b[31m[52]#011train-rmse:0.09841#011validation-rmse:0.142366\u001b[0m\n",
      "\u001b[31m[53]#011train-rmse:0.095424#011validation-rmse:0.140236\u001b[0m\n",
      "\u001b[31m[54]#011train-rmse:0.092452#011validation-rmse:0.137853\u001b[0m\n",
      "\u001b[31m[55]#011train-rmse:0.090161#011validation-rmse:0.136165\u001b[0m\n",
      "\u001b[31m[56]#011train-rmse:0.087917#011validation-rmse:0.134804\u001b[0m\n",
      "\u001b[31m[57]#011train-rmse:0.086042#011validation-rmse:0.13281\u001b[0m\n",
      "\u001b[31m[58]#011train-rmse:0.084027#011validation-rmse:0.131797\u001b[0m\n",
      "\u001b[31m[59]#011train-rmse:0.082356#011validation-rmse:0.131146\u001b[0m\n",
      "\u001b[31m[60]#011train-rmse:0.08065#011validation-rmse:0.131239\u001b[0m\n",
      "\u001b[31m[61]#011train-rmse:0.079353#011validation-rmse:0.12992\u001b[0m\n",
      "\u001b[31m[62]#011train-rmse:0.078408#011validation-rmse:0.129289\u001b[0m\n",
      "\u001b[31m[63]#011train-rmse:0.077308#011validation-rmse:0.128767\u001b[0m\n",
      "\u001b[31m[64]#011train-rmse:0.076302#011validation-rmse:0.128278\u001b[0m\n",
      "\u001b[31m[65]#011train-rmse:0.075204#011validation-rmse:0.127525\u001b[0m\n",
      "\u001b[31m[66]#011train-rmse:0.074046#011validation-rmse:0.127222\u001b[0m\n",
      "\u001b[31m[67]#011train-rmse:0.072998#011validation-rmse:0.126034\u001b[0m\n",
      "\u001b[31m[68]#011train-rmse:0.072101#011validation-rmse:0.125727\u001b[0m\n",
      "\u001b[31m[69]#011train-rmse:0.071379#011validation-rmse:0.125258\u001b[0m\n",
      "\u001b[31m[70]#011train-rmse:0.070644#011validation-rmse:0.124812\u001b[0m\n",
      "\u001b[31m[71]#011train-rmse:0.069797#011validation-rmse:0.124395\u001b[0m\n",
      "\u001b[31m[72]#011train-rmse:0.069121#011validation-rmse:0.124344\u001b[0m\n",
      "\u001b[31m[73]#011train-rmse:0.068471#011validation-rmse:0.124352\u001b[0m\n",
      "\u001b[31m[74]#011train-rmse:0.067886#011validation-rmse:0.124073\u001b[0m\n",
      "\u001b[31m[75]#011train-rmse:0.067083#011validation-rmse:0.123811\u001b[0m\n",
      "\u001b[31m[76]#011train-rmse:0.066209#011validation-rmse:0.123586\u001b[0m\n",
      "\u001b[31m[77]#011train-rmse:0.065815#011validation-rmse:0.123525\u001b[0m\n",
      "\u001b[31m[78]#011train-rmse:0.065147#011validation-rmse:0.123348\u001b[0m\n",
      "\u001b[31m[79]#011train-rmse:0.064353#011validation-rmse:0.123093\u001b[0m\n",
      "\u001b[31m[80]#011train-rmse:0.064025#011validation-rmse:0.122905\u001b[0m\n",
      "\u001b[31m[81]#011train-rmse:0.063119#011validation-rmse:0.122796\u001b[0m\n",
      "\u001b[31m[82]#011train-rmse:0.062724#011validation-rmse:0.122612\u001b[0m\n",
      "\u001b[31m[83]#011train-rmse:0.062111#011validation-rmse:0.122592\u001b[0m\n",
      "\u001b[31m[84]#011train-rmse:0.061376#011validation-rmse:0.122374\u001b[0m\n",
      "\u001b[31m[85]#011train-rmse:0.060837#011validation-rmse:0.122354\u001b[0m\n",
      "\u001b[31m[86]#011train-rmse:0.060461#011validation-rmse:0.12224\u001b[0m\n",
      "\u001b[31m[87]#011train-rmse:0.060187#011validation-rmse:0.122189\u001b[0m\n",
      "\u001b[31m[88]#011train-rmse:0.059319#011validation-rmse:0.122092\u001b[0m\n",
      "\u001b[31m[89]#011train-rmse:0.058896#011validation-rmse:0.122034\u001b[0m\n",
      "\u001b[31m[90]#011train-rmse:0.058372#011validation-rmse:0.121704\u001b[0m\n",
      "\u001b[31m[91]#011train-rmse:0.057776#011validation-rmse:0.121691\u001b[0m\n",
      "\u001b[31m[92]#011train-rmse:0.056911#011validation-rmse:0.121446\u001b[0m\n",
      "\u001b[31m[93]#011train-rmse:0.056344#011validation-rmse:0.121355\u001b[0m\n",
      "\u001b[31m[94]#011train-rmse:0.055515#011validation-rmse:0.121328\u001b[0m\n",
      "\u001b[31m[95]#011train-rmse:0.055181#011validation-rmse:0.121279\u001b[0m\n",
      "\u001b[31m[96]#011train-rmse:0.05451#011validation-rmse:0.121196\u001b[0m\n",
      "\u001b[31m[97]#011train-rmse:0.053822#011validation-rmse:0.121247\u001b[0m\n",
      "\u001b[31m[98]#011train-rmse:0.053311#011validation-rmse:0.121195\u001b[0m\n",
      "\u001b[31m[99]#011train-rmse:0.052704#011validation-rmse:0.121116\u001b[0m\n",
      "\u001b[31m[100]#011train-rmse:0.052276#011validation-rmse:0.121046\u001b[0m\n",
      "\u001b[31m[101]#011train-rmse:0.051748#011validation-rmse:0.121171\u001b[0m\n",
      "\u001b[31m[102]#011train-rmse:0.051387#011validation-rmse:0.120992\u001b[0m\n",
      "\u001b[31m[103]#011train-rmse:0.051025#011validation-rmse:0.120945\u001b[0m\n",
      "\u001b[31m[104]#011train-rmse:0.050456#011validation-rmse:0.120873\u001b[0m\n",
      "\u001b[31m[105]#011train-rmse:0.050086#011validation-rmse:0.120702\u001b[0m\n",
      "\u001b[31m[106]#011train-rmse:0.04981#011validation-rmse:0.120668\u001b[0m\n",
      "\u001b[31m[107]#011train-rmse:0.049404#011validation-rmse:0.120546\u001b[0m\n",
      "\u001b[31m[108]#011train-rmse:0.049145#011validation-rmse:0.120619\u001b[0m\n",
      "\u001b[31m[109]#011train-rmse:0.048623#011validation-rmse:0.120834\u001b[0m\n",
      "\u001b[31m[110]#011train-rmse:0.04826#011validation-rmse:0.120706\u001b[0m\n",
      "\u001b[31m[111]#011train-rmse:0.048097#011validation-rmse:0.120595\u001b[0m\n",
      "\u001b[31m[112]#011train-rmse:0.047494#011validation-rmse:0.120759\u001b[0m\n",
      "\u001b[31m[113]#011train-rmse:0.046873#011validation-rmse:0.120676\u001b[0m\n",
      "\u001b[31m[114]#011train-rmse:0.046489#011validation-rmse:0.120471\u001b[0m\n",
      "\u001b[31m[115]#011train-rmse:0.046127#011validation-rmse:0.120634\u001b[0m\n",
      "\u001b[31m[116]#011train-rmse:0.045537#011validation-rmse:0.120733\u001b[0m\n",
      "\u001b[31m[117]#011train-rmse:0.045213#011validation-rmse:0.120747\u001b[0m\n",
      "\u001b[31m[118]#011train-rmse:0.044827#011validation-rmse:0.120728\u001b[0m\n",
      "\u001b[31m[119]#011train-rmse:0.044448#011validation-rmse:0.120893\u001b[0m\n",
      "\u001b[31m[120]#011train-rmse:0.044209#011validation-rmse:0.120774\u001b[0m\n",
      "\u001b[31m[121]#011train-rmse:0.043972#011validation-rmse:0.12092\u001b[0m\n",
      "\u001b[31m[122]#011train-rmse:0.043453#011validation-rmse:0.120747\u001b[0m\n",
      "\u001b[31m[123]#011train-rmse:0.043023#011validation-rmse:0.120661\u001b[0m\n",
      "\u001b[31m[124]#011train-rmse:0.042883#011validation-rmse:0.120748\u001b[0m\n",
      "\u001b[31m[125]#011train-rmse:0.042577#011validation-rmse:0.120557\u001b[0m\n",
      "\u001b[31m[126]#011train-rmse:0.042142#011validation-rmse:0.120406\u001b[0m\n",
      "\u001b[31m[127]#011train-rmse:0.041779#011validation-rmse:0.120331\u001b[0m\n",
      "\u001b[31m[128]#011train-rmse:0.041222#011validation-rmse:0.120431\u001b[0m\n",
      "\u001b[31m[129]#011train-rmse:0.040845#011validation-rmse:0.12052\u001b[0m\n",
      "\u001b[31m[130]#011train-rmse:0.040703#011validation-rmse:0.120337\u001b[0m\n",
      "\u001b[31m[131]#011train-rmse:0.040322#011validation-rmse:0.12032\u001b[0m\n",
      "\u001b[31m[132]#011train-rmse:0.039939#011validation-rmse:0.120255\u001b[0m\n",
      "\u001b[31m[133]#011train-rmse:0.039483#011validation-rmse:0.12028\u001b[0m\n",
      "\u001b[31m[134]#011train-rmse:0.039253#011validation-rmse:0.120325\u001b[0m\n",
      "\u001b[31m[135]#011train-rmse:0.038965#011validation-rmse:0.120322\u001b[0m\n",
      "\u001b[31m[136]#011train-rmse:0.03863#011validation-rmse:0.120365\u001b[0m\n",
      "\u001b[31m[137]#011train-rmse:0.038332#011validation-rmse:0.120389\u001b[0m\n",
      "\u001b[31m[138]#011train-rmse:0.037844#011validation-rmse:0.120386\u001b[0m\n",
      "\u001b[31m[139]#011train-rmse:0.037387#011validation-rmse:0.120421\u001b[0m\n",
      "\u001b[31m[140]#011train-rmse:0.037053#011validation-rmse:0.120297\u001b[0m\n",
      "\u001b[31m[141]#011train-rmse:0.036626#011validation-rmse:0.12037\u001b[0m\n",
      "\u001b[31m[142]#011train-rmse:0.036219#011validation-rmse:0.120483\u001b[0m\n",
      "\u001b[31m[143]#011train-rmse:0.035809#011validation-rmse:0.120437\u001b[0m\n",
      "\u001b[31m[144]#011train-rmse:0.035534#011validation-rmse:0.120326\u001b[0m\n",
      "\u001b[31m[145]#011train-rmse:0.035382#011validation-rmse:0.12027\u001b[0m\n",
      "\u001b[31m[146]#011train-rmse:0.035006#011validation-rmse:0.120328\u001b[0m\n",
      "\u001b[31m[147]#011train-rmse:0.034727#011validation-rmse:0.120373\u001b[0m\n",
      "\u001b[31m[148]#011train-rmse:0.034553#011validation-rmse:0.120405\u001b[0m\n",
      "\u001b[31m[149]#011train-rmse:0.03427#011validation-rmse:0.120471\u001b[0m\n"
     ]
    },
    {
     "name": "stdout",
     "output_type": "stream",
     "text": [
      "Training seconds: 52\n",
      "Billable seconds: 52\n"
     ]
    }
   ],
   "source": [
    "# XGBoost supports \"train\", \"validation\" channels\n",
    "# Reference: Supported channels by algorithm\n",
    "#   https://docs.aws.amazon.com/sagemaker/latest/dg/sagemaker-algo-docker-registry-paths.html\n",
    "estimator.fit({'train':training_input_config, 'validation':validation_input_config})"
   ]
  },
  {
   "cell_type": "code",
   "execution_count": null,
   "metadata": {},
   "outputs": [],
   "source": []
  }
 ],
 "metadata": {
  "kernelspec": {
   "display_name": "conda_python3",
   "language": "python",
   "name": "conda_python3"
  },
  "language_info": {
   "codemirror_mode": {
    "name": "ipython",
    "version": 3
   },
   "file_extension": ".py",
   "mimetype": "text/x-python",
   "name": "python",
   "nbconvert_exporter": "python",
   "pygments_lexer": "ipython3",
   "version": "3.6.5"
  }
 },
 "nbformat": 4,
 "nbformat_minor": 2
}
